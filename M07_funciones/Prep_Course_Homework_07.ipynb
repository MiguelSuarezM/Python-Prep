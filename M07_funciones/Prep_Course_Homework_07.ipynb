{
 "cells": [
  {
   "attachments": {},
   "cell_type": "markdown",
   "metadata": {},
   "source": [
    "## Funciones"
   ]
  },
  {
   "attachments": {},
   "cell_type": "markdown",
   "metadata": {},
   "source": [
    "1) Crear una función que reciba un número como parámetro y devuelva True si es primo y False si no lo es"
   ]
  },
  {
   "cell_type": "code",
   "execution_count": 8,
   "metadata": {},
   "outputs": [],
   "source": [
    "def ejerc(num):\n",
    "    primo = True\n",
    "    for i in range(2, num):\n",
    "        if num%i==0:\n",
    "            primo=False\n",
    "            break\n",
    "    return primo\n"
   ]
  },
  {
   "attachments": {},
   "cell_type": "markdown",
   "metadata": {},
   "source": [
    "2) Utilizando la función del punto 1, realizar otra función que reciba de parámetro una lista de números y devuelva sólo aquellos que son primos en otra lista"
   ]
  },
  {
   "cell_type": "code",
   "execution_count": 4,
   "metadata": {},
   "outputs": [],
   "source": [
    "def extraer(lista):\n",
    "    listaprimos =[]\n",
    "    for elemento in lista:\n",
    "        if ejerc(int(elemento)):\n",
    "            listaprimos.append(elemento)\n",
    "    return listaprimos"
   ]
  },
  {
   "cell_type": "code",
   "execution_count": 9,
   "metadata": {},
   "outputs": [
    {
     "name": "stdout",
     "output_type": "stream",
     "text": [
      "[1, 2, 3, 5, 7, 11, 13, 17, 19, 23]\n"
     ]
    }
   ],
   "source": [
    "listejemplo = [1,2,3,4,5,6,7,8,9,10,11,12,13,14,15,16,17,18,19,20,21,22,23,24,25]\n",
    "listaprimos = extraer(listejemplo)\n",
    "print(listaprimos)"
   ]
  },
  {
   "attachments": {},
   "cell_type": "markdown",
   "metadata": {},
   "source": [
    "3) Crear una función que al recibir una lista de números, devuelva el que más se repite y cuántas veces lo hace. Si hay más de un \"más repetido\", que devuelva cualquiera"
   ]
  },
  {
   "cell_type": "code",
   "execution_count": 54,
   "metadata": {},
   "outputs": [],
   "source": [
    "def modalista(lista):\n",
    "    primeralista = []\n",
    "    listarepetidos = []\n",
    "    if len(lista) == 0:\n",
    "        print('NO HAY VALORES EN LISTA')\n",
    "    for elemento in lista:\n",
    "        if elemento in primeralista:\n",
    "            i = primeralista.index(elemento)\n",
    "            listarepetidos[i] += 1\n",
    "        else:\n",
    "            primeralista.append(elemento)\n",
    "            listarepetidos.append(1)\n",
    "    moda = primeralista[0]\n",
    "    total = listarepetidos[0]\n",
    "    for i, elemento in enumerate(primeralista):\n",
    "        if listarepetidos[i] > total:\n",
    "            moda = primeralista[i]\n",
    "            total = listarepetidos[i]\n",
    "    print('MODA:',moda,' TOTAL REPETICIONES:',total)"
   ]
  },
  {
   "cell_type": "code",
   "execution_count": 59,
   "metadata": {},
   "outputs": [
    {
     "name": "stdout",
     "output_type": "stream",
     "text": [
      "MODA: 1  TOTAL REPETICIONES: 5\n"
     ]
    }
   ],
   "source": [
    "ejemplo = [1,1,1,1,5,4,7,3,8,1,7,9,5,7,5,3,2,56,9,0,5,5]\n",
    "modalista(ejemplo)"
   ]
  },
  {
   "attachments": {},
   "cell_type": "markdown",
   "metadata": {},
   "source": [
    "4) A la función del punto 3, agregar un parámetro más, que permita elegir si se requiere el menor o el mayor de los mas repetidos."
   ]
  },
  {
   "cell_type": "code",
   "execution_count": 62,
   "metadata": {},
   "outputs": [],
   "source": [
    "def modalista(lista, menor):\n",
    "    primeralista = []\n",
    "    listarepetidos = []\n",
    "    if len(lista) == 0:\n",
    "        print('NO HAY VALORES EN LISTA')\n",
    "    if (menor):\n",
    "        lista.sort()\n",
    "    else:\n",
    "        lista.sort(reverse=True)\n",
    "    for elemento in lista:\n",
    "        if elemento in primeralista:\n",
    "            i = primeralista.index(elemento)\n",
    "            listarepetidos[i] += 1\n",
    "        else:\n",
    "            primeralista.append(elemento)\n",
    "            listarepetidos.append(1)\n",
    "    moda = primeralista[0]\n",
    "    total = listarepetidos[0]\n",
    "    for i, elemento in enumerate(primeralista):\n",
    "        if listarepetidos[i] > total:\n",
    "            moda = primeralista[i]\n",
    "            total = listarepetidos[i]\n",
    "    \n",
    "    print('MODA:',moda,' TOTAL REPETICIONES:',total)"
   ]
  },
  {
   "cell_type": "code",
   "execution_count": 64,
   "metadata": {},
   "outputs": [
    {
     "name": "stdout",
     "output_type": "stream",
     "text": [
      "MODA: 5  TOTAL REPETICIONES: 5\n"
     ]
    }
   ],
   "source": [
    "ejemplo = [1,1,1,1,5,4,7,3,8,1,7,9,5,7,5,3,2,56,9,0,5,5]\n",
    "menor = True\n",
    "modalista(ejemplo, False)"
   ]
  },
  {
   "attachments": {},
   "cell_type": "markdown",
   "metadata": {},
   "source": [
    "5) Crear una función que convierta entre grados Celsius, Farenheit y Kelvin<br>\n",
    "Fórmula 1\t: (°C × 9/5) + 32 = °F<br>\n",
    "Fórmula 2\t: °C + 273.15 = °K<br>\n",
    "Debe recibir 3 parámetros: el valor, la medida de orígen y la medida de destino\n"
   ]
  },
  {
   "cell_type": "code",
   "execution_count": 19,
   "metadata": {},
   "outputs": [],
   "source": [
    "nuevatemp = 0\n",
    "\n",
    "def conversion(temp, origen, destino):\n",
    "    nuevatemp = 0\n",
    "    if origen=='CELSIUS':\n",
    "        if destino=='CELSIUS':\n",
    "            print(temp,'GRADOS CELCIUS')\n",
    "        elif destino=='FARENHEIT':\n",
    "            nuevatemp = (temp *9/5)+32\n",
    "            print('SISTEMA ORIGEN:',origen,' TEMPERATURA INICIAL:',temp,' SISTEMA DESTINO:',destino,' TEMPERATURA FINAL:',nuevatemp)\n",
    "        elif destino=='KELVIN':\n",
    "            nuevatemp = (temp +273.15)\n",
    "            print('SISTEMA ORIGEN:',origen,' TEMPERATURA INICIAL:',temp,' SISTEMA DESTINO:',destino,' TEMPERATURA FINAL:',nuevatemp)\n",
    "        else:\n",
    "            print('SISTEMA DE TEMPERATURA DESTINO NO RECONOCIDO')\n",
    "\n",
    "    elif origen=='FARENHEIT':\n",
    "        if destino=='CELSIUS':\n",
    "            nuevatemp=(temp-32)/(9/5)\n",
    "            print('SISTEMA ORIGEN:',origen,' TEMPERATURA INICIAL:',temp,' SISTEMA DESTINO:',destino,' TEMPERATURA FINAL:',nuevatemp)\n",
    "\n",
    "        elif destino=='FARENHEIT':\n",
    "             print(temp,'GRADOS FARENHEIT')\n",
    "\n",
    "        elif destino=='KELVIN':\n",
    "            nuevatemp=((temp-32)/(9/5))+273.15\n",
    "            print('SISTEMA ORIGEN:',origen,' TEMPERATURA INICIAL:',temp,' SISTEMA DESTINO:',destino,' TEMPERATURA FINAL:',nuevatemp)\n",
    "\n",
    "        else:\n",
    "            print('SISTEMA DE TEMPERATURA DESTINO NO RECONOCIDO')\n",
    "    elif origen =='KELVIN':\n",
    "        if destino=='CELSIUS':\n",
    "            nuevatemp=temp-273.15\n",
    "            print('SISTEMA ORIGEN:',origen,' TEMPERATURA INICIAL:',temp,' SISTEMA DESTINO:',destino,' TEMPERATURA FINAL:',nuevatemp)\n",
    "        elif destino=='FARENHEIT':\n",
    "            nuevatemp=((temp-273.15)*9/5)+32\n",
    "            print('SISTEMA ORIGEN:',origen,' TEMPERATURA INICIAL:',temp,' SISTEMA DESTINO:',destino,' TEMPERATURA FINAL:',nuevatemp)\n",
    "\n",
    "        elif destino=='KELVIN':\n",
    "             print(temp,'GRADOS KELVIN')\n",
    "\n",
    "        else:\n",
    "            print('SISTEMA DE TEMPERATURA DESTINO NO RECONOCIDO')\n",
    "    else:\n",
    "        print('SISTEMA DE TEMPERATURA ORIGEN NO RECONOCIDO')\n",
    "\n"
   ]
  },
  {
   "cell_type": "code",
   "execution_count": 18,
   "metadata": {},
   "outputs": [
    {
     "name": "stdout",
     "output_type": "stream",
     "text": [
      "SISTEMA ORIGEN: CELSIUS  TEMPERATURA INICIAL: 10  SISTEMA DESTINO: KELVIN  TEMPERATURA FINAL: 283.15\n"
     ]
    }
   ],
   "source": [
    "conversion(10, 'CELSIUS', 'KELVIN')"
   ]
  },
  {
   "attachments": {},
   "cell_type": "markdown",
   "metadata": {},
   "source": [
    "6) Iterando una lista con los tres valores posibles de temperatura que recibe la función del punto 5, hacer un print para cada combinación de los mismos:"
   ]
  },
  {
   "cell_type": "code",
   "execution_count": 21,
   "metadata": {},
   "outputs": [
    {
     "name": "stdout",
     "output_type": "stream",
     "text": [
      "10 GRADOS CELCIUS\n",
      "SISTEMA ORIGEN: CELSIUS  TEMPERATURA INICIAL: 10  SISTEMA DESTINO: FARENHEIT  TEMPERATURA FINAL: 50.0\n",
      "SISTEMA ORIGEN: CELSIUS  TEMPERATURA INICIAL: 10  SISTEMA DESTINO: KELVIN  TEMPERATURA FINAL: 283.15\n",
      "SISTEMA ORIGEN: FARENHEIT  TEMPERATURA INICIAL: 10  SISTEMA DESTINO: CELSIUS  TEMPERATURA FINAL: -12.222222222222221\n",
      "10 GRADOS FARENHEIT\n",
      "SISTEMA ORIGEN: FARENHEIT  TEMPERATURA INICIAL: 10  SISTEMA DESTINO: KELVIN  TEMPERATURA FINAL: 260.92777777777775\n",
      "SISTEMA ORIGEN: KELVIN  TEMPERATURA INICIAL: 10  SISTEMA DESTINO: CELSIUS  TEMPERATURA FINAL: -263.15\n",
      "SISTEMA ORIGEN: KELVIN  TEMPERATURA INICIAL: 10  SISTEMA DESTINO: FARENHEIT  TEMPERATURA FINAL: -441.66999999999996\n",
      "10 GRADOS KELVIN\n"
     ]
    }
   ],
   "source": [
    "posibilidades = ['CELSIUS','FARENHEIT','KELVIN']\n",
    "\n",
    "for i in range(0,3):\n",
    "    for j in range(0,3):\n",
    "        conversion(10, posibilidades[i], posibilidades[j])\n"
   ]
  },
  {
   "attachments": {},
   "cell_type": "markdown",
   "metadata": {},
   "source": [
    "7) Armar una función que devuelva el factorial de un número. Tener en cuenta que el usuario puede equivocarse y enviar de parámetro un número no entero o negativo"
   ]
  },
  {
   "cell_type": "code",
   "execution_count": 46,
   "metadata": {},
   "outputs": [],
   "source": [
    "def factorial(num):\n",
    "    resnum = num \n",
    "    if(type(num)==int):\n",
    "        if(num<=0):\n",
    "            print('NUMERO NEGATIVO O IGUAL A 0')\n",
    "\n",
    "        else:\n",
    "            for i in range(1, num):\n",
    "                resnum=resnum*(num-1)\n",
    "                num -=1\n",
    "            print(resnum)\n",
    "    else:\n",
    "        print('NUMERO NO ENTERO')"
   ]
  },
  {
   "cell_type": "code",
   "execution_count": 49,
   "metadata": {},
   "outputs": [
    {
     "name": "stdout",
     "output_type": "stream",
     "text": [
      "2\n"
     ]
    }
   ],
   "source": [
    "factorial(2)"
   ]
  }
 ],
 "metadata": {
  "interpreter": {
   "hash": "c85384e4cb51c8b72350f3a8712cc8351fdc3955e32a27f9b60c6242ab125f01"
  },
  "kernelspec": {
   "display_name": "Python 3 (ipykernel)",
   "language": "python",
   "name": "python3"
  },
  "language_info": {
   "codemirror_mode": {
    "name": "ipython",
    "version": 3
   },
   "file_extension": ".py",
   "mimetype": "text/x-python",
   "name": "python",
   "nbconvert_exporter": "python",
   "pygments_lexer": "ipython3",
   "version": "3.11.6"
  }
 },
 "nbformat": 4,
 "nbformat_minor": 4
}
