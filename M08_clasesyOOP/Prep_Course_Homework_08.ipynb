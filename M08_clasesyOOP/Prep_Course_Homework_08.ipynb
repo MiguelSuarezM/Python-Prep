{
 "cells": [
  {
   "attachments": {},
   "cell_type": "markdown",
   "metadata": {},
   "source": [
    "## Clases y Programación Orientada a Objetos"
   ]
  },
  {
   "attachments": {},
   "cell_type": "markdown",
   "metadata": {},
   "source": [
    "1) Crear la clase vehículo que contenga los atributos:<br>\n",
    "Color<br>\n",
    "Si es moto, auto, camioneta ó camión<br>\n",
    "Cilindrada del motor"
   ]
  },
  {
   "cell_type": "code",
   "execution_count": 2,
   "metadata": {},
   "outputs": [],
   "source": [
    "class Vehiculo:\n",
    "    def __init__(self, color, tipo, cilind):\n",
    "        self.color= color\n",
    "        self.tipo = tipo\n",
    "        self.ciind = cilind\n"
   ]
  },
  {
   "attachments": {},
   "cell_type": "markdown",
   "metadata": {},
   "source": [
    "2) A la clase Vehiculo creada en el punto 1, agregar los siguientes métodos:<br>\n",
    "Acelerar<br>\n",
    "Frenar<br>\n",
    "Doblar<br>"
   ]
  },
  {
   "cell_type": "code",
   "execution_count": 6,
   "metadata": {},
   "outputs": [],
   "source": [
    "class Vehiculo:\n",
    "    def __init__(self, color, tipo, cilind):\n",
    "        self.color= color\n",
    "        self.tipo = tipo\n",
    "        self.ciind = cilind\n",
    "    def acelerar(self):\n",
    "        return print('El/La',self.tipo,'acelera')\n",
    "    def frenar(self):\n",
    "        return print('El/La',self.tipo,'frena')\n",
    "    def doblar(self):\n",
    "        return print('El/La',self.tipo,'dobla')"
   ]
  },
  {
   "cell_type": "code",
   "execution_count": 7,
   "metadata": {},
   "outputs": [
    {
     "name": "stdout",
     "output_type": "stream",
     "text": [
      "El/La MOTO dobla\n"
     ]
    }
   ],
   "source": [
    "veh1 = Vehiculo('ROJO','MOTO','1.2')\n",
    "Vehiculo.doblar(veh1)"
   ]
  },
  {
   "attachments": {},
   "cell_type": "markdown",
   "metadata": {},
   "source": [
    "3) Instanciar 3 objetos de la clase vehículo y ejecutar sus métodos, probar luego el resultado"
   ]
  },
  {
   "cell_type": "code",
   "execution_count": 9,
   "metadata": {},
   "outputs": [
    {
     "name": "stdout",
     "output_type": "stream",
     "text": [
      "El/La AUTO dobla\n",
      "El/La AUTO acelera\n",
      "El/La AUTO frena\n",
      "El/La MOTO dobla\n",
      "El/La MOTO acelera\n",
      "El/La MOTO frena\n",
      "El/La CAMION dobla\n",
      "El/La CAMION acelera\n",
      "El/La CAMION frena\n"
     ]
    }
   ],
   "source": [
    "veh1 = Vehiculo('ROJO','AUTO','1.2')\n",
    "veh2 = Vehiculo('AZUL','MOTO','1.0')\n",
    "veh3 = Vehiculo('VERDE','CAMION','1.5')\n",
    "\n",
    "Vehiculo.doblar(veh1)\n",
    "Vehiculo.acelerar(veh1)\n",
    "Vehiculo.frenar(veh1)\n",
    "\n",
    "Vehiculo.doblar(veh2)\n",
    "Vehiculo.acelerar(veh2)\n",
    "Vehiculo.frenar(veh2)\n",
    "\n",
    "Vehiculo.doblar(veh3)\n",
    "Vehiculo.acelerar(veh3)\n",
    "Vehiculo.frenar(veh3)"
   ]
  },
  {
   "attachments": {},
   "cell_type": "markdown",
   "metadata": {},
   "source": [
    "4) Agregar a la clase Vehiculo, un método que muestre su estado, es decir, a que velocidad se encuentra y su dirección. Y otro método que muestre color, tipo y cilindrada"
   ]
  },
  {
   "cell_type": "code",
   "execution_count": 17,
   "metadata": {},
   "outputs": [],
   "source": [
    "class Vehiculo:\n",
    "    def __init__(self, color, tipo, cilind):\n",
    "        self.color= color\n",
    "        self.tipo = tipo\n",
    "        self.ciind = cilind\n",
    "        self.vel = 0\n",
    "        self.direccion = 'NULO'\n",
    "    def informacion(self):\n",
    "        return print('TIPO DE VEHICULO:',self.tipo,'COLOR:',self.color,'CILINDRAJE:',self.ciind)\n",
    "    def acelerar(self,vel):\n",
    "        self.vel += vel\n",
    "    def frenar(self, vel):\n",
    "        self.vel -= vel\n",
    "    def doblar(self, dire):\n",
    "        self.direccion = dire\n",
    "    \n",
    "    def estado(self):\n",
    "        print('VELOCIDAD:',self.vel,'DIRECCION:',self.direccion)"
   ]
  },
  {
   "cell_type": "code",
   "execution_count": 20,
   "metadata": {},
   "outputs": [
    {
     "name": "stdout",
     "output_type": "stream",
     "text": [
      "VELOCIDAD: 60 DIRECCION: NORTE\n"
     ]
    }
   ],
   "source": [
    "veh1 = Vehiculo('ROJO','AUTO','1.2')\n",
    "veh1.acelerar(60)\n",
    "veh1.doblar('NORTE')\n",
    "veh1.estado()"
   ]
  },
  {
   "attachments": {},
   "cell_type": "markdown",
   "metadata": {},
   "source": [
    "5) Crear una clase que permita utilizar las funciones creadas en la práctica del módulo 7<br>\n",
    "Verificar Primo<br>\n",
    "Valor modal<br>\n",
    "Conversión grados<br>\n",
    "Factorial<br>"
   ]
  },
  {
   "cell_type": "code",
   "execution_count": 24,
   "metadata": {},
   "outputs": [],
   "source": [
    "class Tools:\n",
    "    def __init__(self) -> None:\n",
    "        pass\n",
    "\n",
    "    def ejerc(self,num):\n",
    "        primo = True\n",
    "        for i in range(2, num):\n",
    "            if num%i==0:\n",
    "                primo=False\n",
    "                break\n",
    "        return primo\n",
    "\n",
    "    def modalista(self,lista, menor):\n",
    "        primeralista = []\n",
    "        listarepetidos = []\n",
    "        if len(lista) == 0:\n",
    "            print('NO HAY VALORES EN LISTA')\n",
    "        if (menor):\n",
    "            lista.sort()\n",
    "        else:\n",
    "            lista.sort(reverse=True)\n",
    "        for elemento in lista:\n",
    "            if elemento in primeralista:\n",
    "                i = primeralista.index(elemento)\n",
    "                listarepetidos[i] += 1\n",
    "            else:\n",
    "                primeralista.append(elemento)\n",
    "                listarepetidos.append(1)\n",
    "        moda = primeralista[0]\n",
    "        total = listarepetidos[0]\n",
    "        for i, elemento in enumerate(primeralista):\n",
    "            if listarepetidos[i] > total:\n",
    "                moda = primeralista[i]\n",
    "                total = listarepetidos[i]\n",
    "        \n",
    "        print('MODA:',moda,' TOTAL REPETICIONES:',total)\n",
    "\n",
    "    def conversion(self,temp, origen, destino):\n",
    "        nuevatemp = 0\n",
    "        if origen=='CELSIUS':\n",
    "            if destino=='CELSIUS':\n",
    "                print(temp,'GRADOS CELCIUS')\n",
    "            elif destino=='FARENHEIT':\n",
    "                nuevatemp = (temp *9/5)+32\n",
    "                print('SISTEMA ORIGEN:',origen,' TEMPERATURA INICIAL:',temp,' SISTEMA DESTINO:',destino,' TEMPERATURA FINAL:',nuevatemp)\n",
    "            elif destino=='KELVIN':\n",
    "                nuevatemp = (temp +273.15)\n",
    "                print('SISTEMA ORIGEN:',origen,' TEMPERATURA INICIAL:',temp,' SISTEMA DESTINO:',destino,' TEMPERATURA FINAL:',nuevatemp)\n",
    "            else:\n",
    "                print('SISTEMA DE TEMPERATURA DESTINO NO RECONOCIDO')\n",
    "\n",
    "        elif origen=='FARENHEIT':\n",
    "            if destino=='CELSIUS':\n",
    "                nuevatemp=(temp-32)/(9/5)\n",
    "                print('SISTEMA ORIGEN:',origen,' TEMPERATURA INICIAL:',temp,' SISTEMA DESTINO:',destino,' TEMPERATURA FINAL:',nuevatemp)\n",
    "\n",
    "            elif destino=='FARENHEIT':\n",
    "                print(temp,'GRADOS FARENHEIT')\n",
    "\n",
    "            elif destino=='KELVIN':\n",
    "                nuevatemp=((temp-32)/(9/5))+273.15\n",
    "                print('SISTEMA ORIGEN:',origen,' TEMPERATURA INICIAL:',temp,' SISTEMA DESTINO:',destino,' TEMPERATURA FINAL:',nuevatemp)\n",
    "\n",
    "            else:\n",
    "                print('SISTEMA DE TEMPERATURA DESTINO NO RECONOCIDO')\n",
    "        elif origen =='KELVIN':\n",
    "            if destino=='CELSIUS':\n",
    "                nuevatemp=temp-273.15\n",
    "                print('SISTEMA ORIGEN:',origen,' TEMPERATURA INICIAL:',temp,' SISTEMA DESTINO:',destino,' TEMPERATURA FINAL:',nuevatemp)\n",
    "            elif destino=='FARENHEIT':\n",
    "                nuevatemp=((temp-273.15)*9/5)+32\n",
    "                print('SISTEMA ORIGEN:',origen,' TEMPERATURA INICIAL:',temp,' SISTEMA DESTINO:',destino,' TEMPERATURA FINAL:',nuevatemp)\n",
    "\n",
    "            elif destino=='KELVIN':\n",
    "                print(temp,'GRADOS KELVIN')\n",
    "\n",
    "            else:\n",
    "                print('SISTEMA DE TEMPERATURA DESTINO NO RECONOCIDO')\n",
    "        else:\n",
    "            print('SISTEMA DE TEMPERATURA ORIGEN NO RECONOCIDO')\n",
    "\n",
    "    def factorial(self,num):\n",
    "        resnum = num \n",
    "        if(type(num)==int):\n",
    "            if(num<=0):\n",
    "                print('NUMERO NEGATIVO O IGUAL A 0')\n",
    "\n",
    "            else:\n",
    "                for i in range(1, num):\n",
    "                    resnum=resnum*(num-1)\n",
    "                    num -=1\n",
    "                print(resnum)\n",
    "        else:\n",
    "            print('NUMERO NO ENTERO')\n",
    "    "
   ]
  },
  {
   "attachments": {},
   "cell_type": "markdown",
   "metadata": {},
   "source": [
    "6) Probar las funciones incorporadas en la clase del punto 5"
   ]
  },
  {
   "cell_type": "code",
   "execution_count": 27,
   "metadata": {},
   "outputs": [
    {
     "name": "stdout",
     "output_type": "stream",
     "text": [
      "120\n"
     ]
    }
   ],
   "source": [
    "ejemplo = Tools()\n",
    "ejemplo.factorial(5)"
   ]
  },
  {
   "attachments": {},
   "cell_type": "markdown",
   "metadata": {},
   "source": [
    "7) Es necesario que la clase creada en el punto 5 contenga una lista, sobre la cual se apliquen las funciones incorporadas"
   ]
  },
  {
   "cell_type": "code",
   "execution_count": 47,
   "metadata": {},
   "outputs": [],
   "source": [
    "class Tools:\n",
    "    def __init__(self, lista1):\n",
    "        self.lista = lista1\n",
    "    def ejerc(self):\n",
    "        for i in self.lista:\n",
    "            if(self.__ejerc(i)):\n",
    "                print('ELEMENTO',i,'ES PRIMO')\n",
    "            else:\n",
    "                print('ELEMENTO',i,'NO ES PRIMO')\n",
    "\n",
    "    def __ejerc(self,num):\n",
    "        primo = True\n",
    "        for i in range(2, num):\n",
    "            if num%i==0:\n",
    "                primo=False\n",
    "                break\n",
    "        return primo\n",
    "\n",
    "    def modalista(self,lista, menor):\n",
    "        primeralista = []\n",
    "        listarepetidos = []\n",
    "        if len(lista) == 0:\n",
    "            print('NO HAY VALORES EN LISTA')\n",
    "        if (menor):\n",
    "            lista.sort()\n",
    "        else:\n",
    "            lista.sort(reverse=True)\n",
    "        for elemento in lista:\n",
    "            if elemento in primeralista:\n",
    "                i = primeralista.index(elemento)\n",
    "                listarepetidos[i] += 1\n",
    "            else:\n",
    "                primeralista.append(elemento)\n",
    "                listarepetidos.append(1)\n",
    "        moda = primeralista[0]\n",
    "        total = listarepetidos[0]\n",
    "        for i, elemento in enumerate(primeralista):\n",
    "            if listarepetidos[i] > total:\n",
    "                moda = primeralista[i]\n",
    "                total = listarepetidos[i]\n",
    "        \n",
    "        print('MODA:',moda,' TOTAL REPETICIONES:',total)\n",
    "    def conversion(self,temp, origen, destino):\n",
    "        for i in self.lista:\n",
    "            print(i)\n",
    "    def __conversion(self,temp, origen, destino):\n",
    "        nuevatemp = 0\n",
    "        if origen=='CELSIUS':\n",
    "            if destino=='CELSIUS':\n",
    "                print(temp,'GRADOS CELCIUS')\n",
    "            elif destino=='FARENHEIT':\n",
    "                nuevatemp = (temp *9/5)+32\n",
    "                print('SISTEMA ORIGEN:',origen,' TEMPERATURA INICIAL:',temp,' SISTEMA DESTINO:',destino,' TEMPERATURA FINAL:',nuevatemp)\n",
    "            elif destino=='KELVIN':\n",
    "                nuevatemp = (temp +273.15)\n",
    "                print('SISTEMA ORIGEN:',origen,' TEMPERATURA INICIAL:',temp,' SISTEMA DESTINO:',destino,' TEMPERATURA FINAL:',nuevatemp)\n",
    "            else:\n",
    "                print('SISTEMA DE TEMPERATURA DESTINO NO RECONOCIDO')\n",
    "\n",
    "        elif origen=='FARENHEIT':\n",
    "            if destino=='CELSIUS':\n",
    "                nuevatemp=(temp-32)/(9/5)\n",
    "                print('SISTEMA ORIGEN:',origen,' TEMPERATURA INICIAL:',temp,' SISTEMA DESTINO:',destino,' TEMPERATURA FINAL:',nuevatemp)\n",
    "\n",
    "            elif destino=='FARENHEIT':\n",
    "                print(temp,'GRADOS FARENHEIT')\n",
    "\n",
    "            elif destino=='KELVIN':\n",
    "                nuevatemp=((temp-32)/(9/5))+273.15\n",
    "                print('SISTEMA ORIGEN:',origen,' TEMPERATURA INICIAL:',temp,' SISTEMA DESTINO:',destino,' TEMPERATURA FINAL:',nuevatemp)\n",
    "\n",
    "            else:\n",
    "                print('SISTEMA DE TEMPERATURA DESTINO NO RECONOCIDO')\n",
    "        elif origen =='KELVIN':\n",
    "            if destino=='CELSIUS':\n",
    "                nuevatemp=temp-273.15\n",
    "                print('SISTEMA ORIGEN:',origen,' TEMPERATURA INICIAL:',temp,' SISTEMA DESTINO:',destino,' TEMPERATURA FINAL:',nuevatemp)\n",
    "            elif destino=='FARENHEIT':\n",
    "                nuevatemp=((temp-273.15)*9/5)+32\n",
    "                print('SISTEMA ORIGEN:',origen,' TEMPERATURA INICIAL:',temp,' SISTEMA DESTINO:',destino,' TEMPERATURA FINAL:',nuevatemp)\n",
    "\n",
    "            elif destino=='KELVIN':\n",
    "                print(temp,'GRADOS KELVIN')\n",
    "\n",
    "            else:\n",
    "                print('SISTEMA DE TEMPERATURA DESTINO NO RECONOCIDO')\n",
    "        else:\n",
    "            print('SISTEMA DE TEMPERATURA ORIGEN NO RECONOCIDO')\n",
    "    def factorial(self):\n",
    "        for i in self.lista:\n",
    "            print('RESULTADO DE',i,':',self.__factorial(i))\n",
    "    def __factorial(self,num):\n",
    "        resnum = num \n",
    "        if(type(num)==int):\n",
    "            if(num<=0):\n",
    "                print('NUMERO NEGATIVO O IGUAL A 0')\n",
    "\n",
    "            else:\n",
    "                for i in range(1, num):\n",
    "                    resnum=resnum*(num-1)\n",
    "                    num -=1\n",
    "        else:\n",
    "            print('NUMERO NO ENTERO')\n",
    "    "
   ]
  },
  {
   "cell_type": "code",
   "execution_count": 50,
   "metadata": {},
   "outputs": [
    {
     "name": "stdout",
     "output_type": "stream",
     "text": [
      "ELEMENTO 2 ES PRIMO\n",
      "ELEMENTO 3 ES PRIMO\n",
      "ELEMENTO 4 NO ES PRIMO\n"
     ]
    }
   ],
   "source": [
    "ejemplo = Tools([2,3,4])\n",
    "\n",
    "ejemplo.ejerc()"
   ]
  },
  {
   "attachments": {},
   "cell_type": "markdown",
   "metadata": {},
   "source": [
    "8) Crear un archivo .py aparte y ubicar allí la clase generada en el punto anterior. Luego realizar la importación del módulo y probar alguna de sus funciones"
   ]
  },
  {
   "cell_type": "code",
   "execution_count": 51,
   "metadata": {},
   "outputs": [],
   "source": [
    "from ultimopunto import *"
   ]
  },
  {
   "cell_type": "code",
   "execution_count": 53,
   "metadata": {},
   "outputs": [],
   "source": [
    "exerc = Tools([1,2,3,4,5,5])"
   ]
  },
  {
   "cell_type": "code",
   "execution_count": 54,
   "metadata": {},
   "outputs": [
    {
     "name": "stdout",
     "output_type": "stream",
     "text": [
      "ELEMENTO 1 ES PRIMO\n",
      "ELEMENTO 2 ES PRIMO\n",
      "ELEMENTO 3 ES PRIMO\n",
      "ELEMENTO 4 NO ES PRIMO\n",
      "ELEMENTO 5 ES PRIMO\n",
      "ELEMENTO 5 ES PRIMO\n"
     ]
    }
   ],
   "source": [
    "exerc.ejerc()"
   ]
  }
 ],
 "metadata": {
  "interpreter": {
   "hash": "c85384e4cb51c8b72350f3a8712cc8351fdc3955e32a27f9b60c6242ab125f01"
  },
  "kernelspec": {
   "display_name": "Python 3 (ipykernel)",
   "language": "python",
   "name": "python3"
  },
  "language_info": {
   "codemirror_mode": {
    "name": "ipython",
    "version": 3
   },
   "file_extension": ".py",
   "mimetype": "text/x-python",
   "name": "python",
   "nbconvert_exporter": "python",
   "pygments_lexer": "ipython3",
   "version": "3.11.6"
  }
 },
 "nbformat": 4,
 "nbformat_minor": 4
}
