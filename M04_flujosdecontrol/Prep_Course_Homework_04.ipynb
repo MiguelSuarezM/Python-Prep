{
 "cells": [
  {
   "attachments": {},
   "cell_type": "markdown",
   "metadata": {},
   "source": [
    "## Flujos de Control"
   ]
  },
  {
   "attachments": {},
   "cell_type": "markdown",
   "metadata": {},
   "source": [
    "1) Crear una variable que contenga un elemento del conjunto de números enteros y luego imprimir por pantalla si es mayor o menor a cero"
   ]
  },
  {
   "cell_type": "code",
   "execution_count": 1,
   "metadata": {},
   "outputs": [
    {
     "name": "stdout",
     "output_type": "stream",
     "text": [
      "X es mayor que cero\n"
     ]
    }
   ],
   "source": [
    "x=6\n",
    "\n",
    "if x>0:\n",
    "    print(\"X es mayor que cero\")\n",
    "else:\n",
    "    print(\"X no es mayor que cero\")"
   ]
  },
  {
   "attachments": {},
   "cell_type": "markdown",
   "metadata": {},
   "source": [
    "2) Crear dos variables y un condicional que informe si son del mismo tipo de dato"
   ]
  },
  {
   "cell_type": "code",
   "execution_count": 3,
   "metadata": {},
   "outputs": [
    {
     "name": "stdout",
     "output_type": "stream",
     "text": [
      "Son el mismo tipo de daato\n"
     ]
    }
   ],
   "source": [
    "x=2\n",
    "y=3\n",
    "\n",
    "if type(x) == type(y):\n",
    "    print(\"Son el mismo tipo de daato\")\n",
    "else:\n",
    "    print(\"No son el mismo tipo de dato\")"
   ]
  },
  {
   "attachments": {},
   "cell_type": "markdown",
   "metadata": {},
   "source": [
    "3) Para los valores enteros del 1 al 20, imprimir por pantalla si es par o impar"
   ]
  },
  {
   "cell_type": "code",
   "execution_count": 45,
   "metadata": {},
   "outputs": [
    {
     "name": "stdout",
     "output_type": "stream",
     "text": [
      "1 Par\n",
      "2 Impar\n",
      "3 Impar\n",
      "4 Par\n",
      "5 Par\n",
      "6 Impar\n",
      "7 Impar\n",
      "8 Par\n",
      "9 Par\n",
      "10 Impar\n",
      "11 Impar\n",
      "12 Par\n",
      "13 Par\n",
      "14 Impar\n",
      "15 Impar\n",
      "16 Par\n",
      "17 Par\n",
      "18 Impar\n",
      "19 Impar\n",
      "20 Impar\n",
      "21 Impar\n"
     ]
    }
   ],
   "source": [
    "for i in range(0,21):\n",
    "    suma=i+1\n",
    "\n",
    "    if suma//2==0:\n",
    "            print(suma,\"Par\")\n",
    "    elif suma//2==2:\n",
    "            print(suma,\"Par\")\n",
    "    elif suma//2==4:\n",
    "            print(suma,\"Par\")\n",
    "    elif suma//2==6:\n",
    "            print(suma,\"Par\")\n",
    "    elif suma//2==8:\n",
    "            print(suma,\"Par\")\n",
    "    else:\n",
    "            print(suma,\"Impar\")\n",
    "\n",
    "            \n",
    "\n",
    "\n",
    "\n",
    "    "
   ]
  },
  {
   "attachments": {},
   "cell_type": "markdown",
   "metadata": {},
   "source": [
    "4) En un ciclo for mostrar para los valores entre 0 y 5 el resultado de elevarlo a la potencia igual a 3"
   ]
  },
  {
   "cell_type": "code",
   "execution_count": 48,
   "metadata": {},
   "outputs": [
    {
     "name": "stdout",
     "output_type": "stream",
     "text": [
      "0\n",
      "1\n",
      "8\n",
      "27\n",
      "64\n"
     ]
    }
   ],
   "source": [
    "for i in range(0,5):\n",
    "    print(i**3)"
   ]
  },
  {
   "attachments": {},
   "cell_type": "markdown",
   "metadata": {},
   "source": [
    "5) Crear una variable que contenga un número entero y realizar un ciclo for la misma cantidad de ciclos"
   ]
  },
  {
   "cell_type": "code",
   "execution_count": 51,
   "metadata": {},
   "outputs": [
    {
     "name": "stdout",
     "output_type": "stream",
     "text": [
      "0\n",
      "3\n",
      "6\n",
      "9\n",
      "12\n"
     ]
    }
   ],
   "source": [
    "x=5\n",
    "\n",
    "for i in range(x):\n",
    "    print(i*3)"
   ]
  },
  {
   "attachments": {},
   "cell_type": "markdown",
   "metadata": {},
   "source": [
    "6) Utilizar un ciclo while para realizar el factorial de un número guardado en una variable, sólo si la variable contiene un número entero mayor a 0"
   ]
  },
  {
   "cell_type": "code",
   "execution_count": null,
   "metadata": {},
   "outputs": [],
   "source": [
    "num = 10\n",
    "if(type(num) == int):\n",
    "    if(n>0):\n",
    "        factorial = n\n",
    "        while (n > 2):\n",
    "            n = n - 1\n",
    "            factorial = factorial * n\n",
    "        print('Resultado es ', factorial)\n",
    "    else:\n",
    "        print('Variable no es mayor a cero')\n",
    "else:\n",
    "    print('Variable no es un entero')\n"
   ]
  },
  {
   "attachments": {},
   "cell_type": "markdown",
   "metadata": {},
   "source": [
    "7) Crear un ciclo for dentro de un ciclo while"
   ]
  },
  {
   "cell_type": "code",
   "execution_count": 5,
   "metadata": {},
   "outputs": [
    {
     "name": "stdout",
     "output_type": "stream",
     "text": [
      "Numero  1\n",
      "Numero  2\n",
      "Numero  3\n"
     ]
    }
   ],
   "source": [
    "x = 1\n",
    "while x<4:\n",
    "    for i in range(1, x+1):\n",
    "        print('Numero ', x)\n",
    "        x +=1"
   ]
  },
  {
   "attachments": {},
   "cell_type": "markdown",
   "metadata": {},
   "source": [
    "8) Crear un ciclo while dentro de un ciclo for"
   ]
  },
  {
   "cell_type": "code",
   "execution_count": 10,
   "metadata": {},
   "outputs": [
    {
     "name": "stdout",
     "output_type": "stream",
     "text": [
      "Vuelta Num  1\n",
      "Vuelta Num  2\n",
      "Vuelta Num  3\n",
      "Vuelta Num  4\n",
      "Vuelta Num  5\n",
      "Vuelta Num  6\n",
      "Vuelta Num  7\n",
      "Vuelta Num  8\n",
      "Vuelta Num  9\n"
     ]
    }
   ],
   "source": [
    "x = 1\n",
    "for i in range (1, 5):\n",
    "    while(x<10):\n",
    "        print('Vuelta Num ', x)\n",
    "        x +=1\n"
   ]
  },
  {
   "attachments": {},
   "cell_type": "markdown",
   "metadata": {},
   "source": [
    "9) Imprimir los números primos existentes entre 0 y 30"
   ]
  },
  {
   "cell_type": "code",
   "execution_count": 13,
   "metadata": {},
   "outputs": [
    {
     "name": "stdout",
     "output_type": "stream",
     "text": [
      "0\n",
      "1\n",
      "2\n",
      "3\n",
      "5\n",
      "7\n",
      "11\n",
      "13\n",
      "17\n",
      "19\n",
      "23\n",
      "29\n"
     ]
    }
   ],
   "source": [
    "max = 30\n",
    "x = 0\n",
    "primo = True\n",
    "\n",
    "while (x<max):\n",
    "    for div in range(2, x):\n",
    "        if (x % div == 0):\n",
    "            primo = False\n",
    "    if (primo):\n",
    "        print(x)\n",
    "    else:\n",
    "        primo = True\n",
    "    x += 1"
   ]
  },
  {
   "attachments": {},
   "cell_type": "markdown",
   "metadata": {},
   "source": [
    "10) ¿Se puede mejorar el proceso del punto 9? Utilizar las sentencias break y/ó continue para tal fin"
   ]
  },
  {
   "cell_type": "code",
   "execution_count": 15,
   "metadata": {},
   "outputs": [
    {
     "name": "stdout",
     "output_type": "stream",
     "text": [
      "0\n",
      "1\n",
      "2\n",
      "3\n",
      "5\n",
      "7\n",
      "11\n",
      "13\n",
      "17\n",
      "19\n",
      "23\n",
      "29\n"
     ]
    }
   ],
   "source": [
    "x = 0 \n",
    "maximo = 30\n",
    "primo = True\n",
    "while (x<30):\n",
    "    for division in range (2, x):\n",
    "        if (x% division == 0):\n",
    "            primo = False\n",
    "            break ##No ejecuta siguientes condicionales\n",
    "    if (primo):\n",
    "        print(x)\n",
    "    else:\n",
    "        primo = True\n",
    "    \n",
    "    x+=1"
   ]
  },
  {
   "attachments": {},
   "cell_type": "markdown",
   "metadata": {},
   "source": [
    "11) En los puntos 9 y 10, se diseño un código que encuentra números primos y además se lo optimizó. ¿Es posible saber en qué medida se optimizó?"
   ]
  },
  {
   "cell_type": "code",
   "execution_count": 18,
   "metadata": {},
   "outputs": [
    {
     "name": "stdout",
     "output_type": "stream",
     "text": [
      "0\n",
      "1\n",
      "2\n",
      "3\n",
      "5\n",
      "7\n",
      "11\n",
      "13\n",
      "17\n",
      "19\n",
      "23\n",
      "29\n",
      "Numero ciclos 378\n"
     ]
    }
   ],
   "source": [
    "max = 30\n",
    "x = 0\n",
    "primo = True\n",
    "ciclo1 = 0\n",
    "while (x<max):\n",
    "    for div in range(2, x):\n",
    "        ciclo1 += 1\n",
    "\n",
    "        if (x % div == 0):\n",
    "            primo = False\n",
    "    if (primo):\n",
    "        print(x)\n",
    "    else:\n",
    "        primo = True\n",
    "    x += 1\n",
    "\n",
    "print('Numero ciclos', ciclo1)"
   ]
  },
  {
   "cell_type": "code",
   "execution_count": 26,
   "metadata": {},
   "outputs": [
    {
     "name": "stdout",
     "output_type": "stream",
     "text": [
      "0\n",
      "1\n",
      "2\n",
      "3\n",
      "5\n",
      "7\n",
      "11\n",
      "13\n",
      "17\n",
      "19\n",
      "23\n",
      "29\n",
      "Numero ciclos 134\n",
      "Optimizado un  0.3544973544973545 %\n"
     ]
    }
   ],
   "source": [
    "x = 0 \n",
    "maximo = 30\n",
    "primo = True\n",
    "ciclo2 = 0\n",
    "while (x<30):\n",
    "    for division in range (2, x):\n",
    "        ciclo2 += 1\n",
    "\n",
    "        if (x% division == 0):\n",
    "\n",
    "            primo = False\n",
    "            break ##No ejecuta siguientes condicionales\n",
    "    if (primo):\n",
    "        print(x)\n",
    "    else:\n",
    "        primo = True\n",
    "    \n",
    "    x+=1\n",
    "print('Numero ciclos', ciclo2)\n",
    "print('Optimizado un ', ciclo2/ciclo1,'%')"
   ]
  },
  {
   "attachments": {},
   "cell_type": "markdown",
   "metadata": {},
   "source": [
    "12) Si la cantidad de números que se evalúa es mayor a treinta, esa optimización crece?"
   ]
  },
  {
   "cell_type": "code",
   "execution_count": 27,
   "metadata": {},
   "outputs": [
    {
     "name": "stdout",
     "output_type": "stream",
     "text": [
      "0\n",
      "1\n",
      "2\n",
      "3\n",
      "5\n",
      "7\n",
      "11\n",
      "13\n",
      "17\n",
      "19\n",
      "23\n",
      "29\n",
      "31\n",
      "37\n",
      "41\n",
      "43\n",
      "47\n",
      "53\n",
      "59\n",
      "61\n",
      "67\n",
      "71\n",
      "73\n",
      "79\n",
      "83\n",
      "89\n",
      "97\n",
      "Numero ciclos 4753\n"
     ]
    }
   ],
   "source": [
    "max = 100\n",
    "x = 0\n",
    "primo = True\n",
    "ciclo1 = 0\n",
    "while (x<max):\n",
    "    for div in range(2, x):\n",
    "        ciclo1 += 1\n",
    "\n",
    "        if (x % div == 0):\n",
    "            primo = False\n",
    "    if (primo):\n",
    "        print(x)\n",
    "    else:\n",
    "        primo = True\n",
    "    x += 1\n",
    "\n",
    "print('Numero ciclos', ciclo1)"
   ]
  },
  {
   "cell_type": "code",
   "execution_count": 28,
   "metadata": {},
   "outputs": [
    {
     "name": "stdout",
     "output_type": "stream",
     "text": [
      "0\n",
      "1\n",
      "2\n",
      "3\n",
      "5\n",
      "7\n",
      "11\n",
      "13\n",
      "17\n",
      "19\n",
      "23\n",
      "29\n",
      "Numero ciclos 134\n",
      "Optimizado un  0.02819272038712392 %\n"
     ]
    }
   ],
   "source": [
    "x = 0 \n",
    "maximo = 100\n",
    "primo = True\n",
    "ciclo2 = 0\n",
    "while (x<30):\n",
    "    for division in range (2, x):\n",
    "        ciclo2 += 1\n",
    "\n",
    "        if (x% division == 0):\n",
    "\n",
    "            primo = False\n",
    "            break ##No ejecuta siguientes condicionales\n",
    "    if (primo):\n",
    "        print(x)\n",
    "    else:\n",
    "        primo = True\n",
    "    \n",
    "    x+=1\n",
    "print('Numero ciclos', ciclo2)\n",
    "print('Optimizado un ', ciclo2/ciclo1,'%')"
   ]
  },
  {
   "attachments": {},
   "cell_type": "markdown",
   "metadata": {},
   "source": [
    "13) Aplicando continue, armar un ciclo while que solo imprima los valores divisibles por 12, dentro del rango de números de 100 a 300"
   ]
  },
  {
   "cell_type": "code",
   "execution_count": 30,
   "metadata": {},
   "outputs": [
    {
     "name": "stdout",
     "output_type": "stream",
     "text": [
      "El numero 108 es divisible por 12\n",
      "El numero 120 es divisible por 12\n",
      "El numero 132 es divisible por 12\n",
      "El numero 144 es divisible por 12\n",
      "El numero 156 es divisible por 12\n",
      "El numero 168 es divisible por 12\n",
      "El numero 180 es divisible por 12\n",
      "El numero 192 es divisible por 12\n",
      "El numero 204 es divisible por 12\n",
      "El numero 216 es divisible por 12\n",
      "El numero 228 es divisible por 12\n",
      "El numero 240 es divisible por 12\n",
      "El numero 252 es divisible por 12\n",
      "El numero 264 es divisible por 12\n",
      "El numero 276 es divisible por 12\n",
      "El numero 288 es divisible por 12\n",
      "El numero 300 es divisible por 12\n"
     ]
    }
   ],
   "source": [
    "x = 99\n",
    "while(x <= 300):\n",
    "    x += 1\n",
    "    if (x % 12 != 0):\n",
    "        continue\n",
    "    print('El numero',x, 'es divisible por 12')"
   ]
  },
  {
   "attachments": {},
   "cell_type": "markdown",
   "metadata": {},
   "source": [
    "14) Utilizar la función **input()** que permite hacer ingresos por teclado, para encontrar números primos y dar la opción al usario de buscar el siguiente"
   ]
  },
  {
   "cell_type": "code",
   "execution_count": 1,
   "metadata": {},
   "outputs": [
    {
     "name": "stdout",
     "output_type": "stream",
     "text": [
      "1\n",
      "¿Desea encontrar el siguiente número primo?\n",
      "Se finaliza el proceso\n"
     ]
    }
   ],
   "source": [
    "n = 1\n",
    "sigue = 1\n",
    "primo = True\n",
    "while (sigue == 1):\n",
    "    for div in range(2, n):\n",
    "        if (n % div == 0):\n",
    "            primo = False\n",
    "            break\n",
    "    if (primo):\n",
    "        print(n)\n",
    "        print('¿Desea encontrar el siguiente número primo?')\n",
    "        if (input() != '1'):\n",
    "            sigue = 2\n",
    "            print('Se finaliza el proceso')\n",
    "            \n",
    "    else:\n",
    "        primo = True\n",
    "    n += 1"
   ]
  },
  {
   "attachments": {},
   "cell_type": "markdown",
   "metadata": {},
   "source": [
    "15) Crear un ciclo while que encuentre dentro del rango de 100 a 300 el primer número divisible por 3 y además múltiplo de 6"
   ]
  },
  {
   "cell_type": "code",
   "execution_count": 2,
   "metadata": {},
   "outputs": [
    {
     "name": "stdout",
     "output_type": "stream",
     "text": [
      "Resultado:  102\n"
     ]
    }
   ],
   "source": [
    "x = 99\n",
    "while (x <= 300):\n",
    "    if(x%6==0):\n",
    "        print('Resultado: ',x)\n",
    "        break\n",
    "    x +=1"
   ]
  }
 ],
 "metadata": {
  "interpreter": {
   "hash": "c85384e4cb51c8b72350f3a8712cc8351fdc3955e32a27f9b60c6242ab125f01"
  },
  "kernelspec": {
   "display_name": "Python 3 (ipykernel)",
   "language": "python",
   "name": "python3"
  },
  "language_info": {
   "codemirror_mode": {
    "name": "ipython",
    "version": 3
   },
   "file_extension": ".py",
   "mimetype": "text/x-python",
   "name": "python",
   "nbconvert_exporter": "python",
   "pygments_lexer": "ipython3",
   "version": "3.11.6"
  }
 },
 "nbformat": 4,
 "nbformat_minor": 4
}
